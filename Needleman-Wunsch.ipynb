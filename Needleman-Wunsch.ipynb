{
 "cells": [
  {
   "cell_type": "code",
   "execution_count": null,
   "metadata": {},
   "outputs": [],
   "source": [
    "\"\"\"Needleman-Wunsch algorithm\"\"\"\n",
    "\n",
    "from __future__ import print_function, unicode_literals\n",
    "import sys\n",
    "\n",
    "score_match = 2\n",
    "score_miss = -1\n",
    "score_gap = -2"
   ]
  },
  {
   "cell_type": "code",
   "execution_count": null,
   "metadata": {},
   "outputs": [],
   "source": [
    "def _traceback(t, r, str1, str2, x, y, s1='', s2=''):\n",
    "    if x > 0 or y > 0:\n",
    "        c = t[y][x]\n",
    "        u = c == (t[y - 1][x] + score_gap)\n",
    "        l = c == (t[y][x - 1] + score_gap)\n",
    "        b = str1[x - 1] == str2[y - 1]\n",
    "        ul = c == (t[y - 1][x - 1] + score_match if b else score_miss)\n",
    "        if ul:\n",
    "            _traceback(t, r, str1, str2,\n",
    "                       x - 1, y - 1, str1[x - 1] + s1, str2[y - 1] + s2)\n",
    "        if l:\n",
    "            _traceback(t, r, str1, str2,\n",
    "                       x - 1, y, str1[x - 1] + s1, '-' + s2)\n",
    "        if u:\n",
    "            _traceback(t, r, str1, str2,\n",
    "                       x, y - 1, '-' + s1, str2[y - 1] + s2)\n",
    "    else:\n",
    "        r.append((s1, s2))"
   ]
  },
  {
   "cell_type": "code",
   "execution_count": null,
   "metadata": {},
   "outputs": [],
   "source": [
    "def diff(str1, str2):\n",
    "    # Initialization\n",
    "    l1 = len(str1) + 1\n",
    "    l2 = len(str2) + 1\n",
    "    t = [[0 for _ in range(l1)] for _ in range(l2)]\n",
    "    for i in range(l1):\n",
    "        t[0][i] = score_gap * i\n",
    "    for i in range(l2):\n",
    "        t[i][0] = score_gap * i\n",
    "    # Calc\n",
    "    for y in range(1, l2):\n",
    "        for x in range(1, l1):\n",
    "            b = str1[x - 1] == str2[y - 1]\n",
    "            t[y][x] = max(\n",
    "                t[y][x - 1] + score_gap,\n",
    "                t[y - 1][x] + score_gap,\n",
    "                t[y - 1][x - 1] + score_match if b else score_miss)\n",
    "    score = t[l2 - 1][l1 - 1]\n",
    "    # Traceback\n",
    "    results = []\n",
    "    _traceback(t, results, str1, str2, x, y)\n",
    "    # Result\n",
    "    #from pprint import pprint\n",
    "    #pprint(t)\n",
    "    print(\"Score: {0}\".format(score))\n",
    "    for i, result in enumerate(results):\n",
    "        print(\"Result {0}:\\n{1}\\n{2}\".format(i + 1, result[0], result[1]))\n"
   ]
  },
  {
   "cell_type": "code",
   "execution_count": null,
   "metadata": {},
   "outputs": [],
   "source": [
    "if __name__ == '__main__':\n",
    "    if len(sys.argv) < 3:\n",
    "        print(\"arguments missing\", file=sys.stderr)\n",
    "        sys.exit(1)\n",
    "    if sys.version_info[0] >= 3:\n",
    "        args = sys.argv[1:3]\n",
    "    else:\n",
    "        args = map(lambda s: s.decode('utf-8'), sys.argv[1:3])\n",
    "    diff(*args)"
   ]
  }
 ],
 "metadata": {
  "kernelspec": {
   "display_name": "Python 3",
   "language": "python",
   "name": "python3"
  },
  "language_info": {
   "codemirror_mode": {
    "name": "ipython",
    "version": 3
   },
   "file_extension": ".py",
   "mimetype": "text/x-python",
   "name": "python",
   "nbconvert_exporter": "python",
   "pygments_lexer": "ipython3",
   "version": "3.7.1"
  }
 },
 "nbformat": 4,
 "nbformat_minor": 2
}
