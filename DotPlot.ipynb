{
 "cells": [
  {
   "cell_type": "code",
   "execution_count": 1,
   "metadata": {},
   "outputs": [],
   "source": [
    "def delta(x,y):\n",
    "    return 0 if x == y else 1"
   ]
  },
  {
   "cell_type": "code",
   "execution_count": 2,
   "metadata": {},
   "outputs": [],
   "source": [
    "def M(seq1,seq2,i,j,k):\n",
    "    return sum(delta(x,y) for x,y in zip(seq1[i:i+k],seq2[j:j+k]))"
   ]
  },
  {
   "cell_type": "code",
   "execution_count": 3,
   "metadata": {},
   "outputs": [],
   "source": [
    "def makeMatrix(seq1,seq2,k):\n",
    "    n = len(seq1)\n",
    "    m = len(seq2)\n",
    "    return [[M(seq1,seq2,i,j,k) for j in range(m-k+1)] for i in range(n-k+1)]"
   ]
  },
  {
   "cell_type": "code",
   "execution_count": 4,
   "metadata": {},
   "outputs": [],
   "source": [
    "def plotMatrix(M,t, seq1, seq2, nonblank = chr(0x25A0), blank = ' '):\n",
    "    print(' |' + seq2)\n",
    "    print('-'*(2 + len(seq2)))\n",
    "    for label,row in zip(seq1,M):\n",
    "        line = ''.join(nonblank if s < t else blank for s in row)\n",
    "        print(label + '|' + line)"
   ]
  },
  {
   "cell_type": "code",
   "execution_count": 5,
   "metadata": {},
   "outputs": [],
   "source": [
    "def dotplot(seq1,seq2,k = 1,t = 1):\n",
    "    M = makeMatrix(seq1,seq2,k)\n",
    "    plotMatrix(M, t, seq1,seq2)"
   ]
  },
  {
   "cell_type": "code",
   "execution_count": 6,
   "metadata": {},
   "outputs": [
    {
     "name": "stdout",
     "output_type": "stream",
     "text": [
      " |ACCTGAGCTCACCTGAGTTA\n",
      "----------------------\n",
      "A|■    ■    ■    ■   ■\n",
      "C| ■■    ■ ■ ■■       \n",
      "C| ■■    ■ ■ ■■       \n",
      "T|   ■    ■    ■   ■■ \n",
      "G|    ■ ■       ■ ■   \n",
      "A|■    ■    ■    ■   ■\n",
      "G|    ■ ■       ■ ■   \n",
      "C| ■■    ■ ■ ■■       \n",
      "T|   ■    ■    ■   ■■ \n",
      "C| ■■    ■ ■ ■■       \n",
      "A|■    ■    ■    ■   ■\n",
      "C| ■■    ■ ■ ■■       \n",
      "C| ■■    ■ ■ ■■       \n",
      "T|   ■    ■    ■   ■■ \n",
      "G|    ■ ■       ■ ■   \n",
      "A|■    ■    ■    ■   ■\n",
      "G|    ■ ■       ■ ■   \n",
      "T|   ■    ■    ■   ■■ \n",
      "T|   ■    ■    ■   ■■ \n",
      "A|■    ■    ■    ■   ■\n"
     ]
    }
   ],
   "source": [
    "dotplot(seqx,seqy)"
   ]
  },
  {
   "cell_type": "code",
   "execution_count": null,
   "metadata": {},
   "outputs": [],
   "source": []
  }
 ],
 "metadata": {
  "kernelspec": {
   "display_name": "Python 3",
   "language": "python",
   "name": "python3"
  },
  "language_info": {
   "codemirror_mode": {
    "name": "ipython",
    "version": 3
   },
   "file_extension": ".py",
   "mimetype": "text/x-python",
   "name": "python",
   "nbconvert_exporter": "python",
   "pygments_lexer": "ipython3",
   "version": "3.7.1"
  }
 },
 "nbformat": 4,
 "nbformat_minor": 2
}
